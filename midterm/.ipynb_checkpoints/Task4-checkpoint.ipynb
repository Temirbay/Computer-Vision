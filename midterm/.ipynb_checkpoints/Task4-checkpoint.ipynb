{
 "cells": [
  {
   "cell_type": "code",
   "execution_count": null,
   "metadata": {
    "collapsed": true
   },
   "outputs": [],
   "source": [
    "#Task4\n",
    "\n",
    "from scipy import misc \n",
    "from skimage import feature\n",
    "\n",
    "pic2 = misc.imread('image.jpg',mode='L')\n",
    "pic = img.imread ('image.jpg')\n",
    "\n",
    "edges1 = feature.canny(pic2)\n",
    "edges2 = feature.canny(pic2, sigma=3)\n",
    "\n",
    "fig = plt.figure(figsize=(15,10))\n",
    "plt.subplot(131)\n",
    "plt.imshow(pic[:,:])\n",
    "plt.subplot(132)\n",
    "plt.imshow(edges1, cmap='Reds')\n",
    "plt.subplot(133)\n",
    "plt.imshow(edges2, cmap='Reds')\n",
    "plt.show()"
   ]
  }
 ],
 "metadata": {
  "kernelspec": {
   "display_name": "Python 3",
   "language": "python",
   "name": "python3"
  },
  "language_info": {
   "codemirror_mode": {
    "name": "ipython",
    "version": 3
   },
   "file_extension": ".py",
   "mimetype": "text/x-python",
   "name": "python",
   "nbconvert_exporter": "python",
   "pygments_lexer": "ipython3",
   "version": "3.6.1"
  }
 },
 "nbformat": 4,
 "nbformat_minor": 2
}
