{
 "cells": [
  {
   "cell_type": "code",
   "execution_count": null,
   "metadata": {
    "collapsed": true
   },
   "outputs": [],
   "source": [
    "\n",
    "pic3 = misc.imread('task2.jpg',mode='L')\n",
    "\n",
    "pic3 = pic3 * 1.45\n",
    "\n",
    "fig = plt.figure(figsize=(15, 10))\n",
    "plt.subplot(121)\n",
    "plt.imshow(pic3)\n",
    "plt.subplot(122)\n",
    "plt.hist(pic3.ravel(),256,[0,256]);\n",
    "\n",
    "plt.show()"
   ]
  }
 ],
 "metadata": {
  "kernelspec": {
   "display_name": "Python 3",
   "language": "python",
   "name": "python3"
  },
  "language_info": {
   "codemirror_mode": {
    "name": "ipython",
    "version": 3
   },
   "file_extension": ".py",
   "mimetype": "text/x-python",
   "name": "python",
   "nbconvert_exporter": "python",
   "pygments_lexer": "ipython3",
   "version": "3.6.1"
  }
 },
 "nbformat": 4,
 "nbformat_minor": 2
}
